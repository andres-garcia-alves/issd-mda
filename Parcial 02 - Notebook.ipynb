{
  "nbformat": 4,
  "nbformat_minor": 0,
  "metadata": {
    "colab": {
      "provenance": [],
      "collapsed_sections": [
        "zayFNOek8Cl3",
        "lQCwZJM0TUQP",
        "oe8Eo5vQK53Z",
        "22I2SB7o71yP",
        "SRiDSfrL75TP",
        "qkEr6eDCLuCs",
        "2Z2Xx7hjYcXL"
      ]
    },
    "kernelspec": {
      "name": "python3",
      "display_name": "Python 3"
    },
    "language_info": {
      "name": "python"
    }
  },
  "cells": [
    {
      "cell_type": "markdown",
      "source": [
        "# **MINERIA DE DATOS - PARCIAL 2** 💻\n",
        "\n",
        "> 🙋🏻‍♂️ **Juan Andres Garcia Alves de Borba** (DNI 30182100)"
      ],
      "metadata": {
        "id": "KHSOXUEX8RZF"
      }
    },
    {
      "cell_type": "markdown",
      "source": [
        "## 📌 Parte 1. **Setup Inicial**"
      ],
      "metadata": {
        "id": "zayFNOek8Cl3"
      }
    },
    {
      "cell_type": "markdown",
      "source": [
        "👉🏻 Importación de librerías y configuraciones generales ..."
      ],
      "metadata": {
        "id": "ix1cPQimL4Lm"
      }
    },
    {
      "cell_type": "code",
      "source": [
        "import numpy as np\n",
        "import pandas as pd\n",
        "import warnings\n",
        "\n",
        "import matplotlib.pyplot as plt\n",
        "import seaborn as sns\n",
        "\n",
        "from sklearn.preprocessing import StandardScaler\n",
        "from sklearn.model_selection import train_test_split\n",
        "from sklearn.neighbors import KNeighborsClassifier\n",
        "from sklearn.tree import DecisionTreeClassifier\n",
        "from sklearn.metrics import accuracy_score, f1_score, confusion_matrix, classification_report"
      ],
      "metadata": {
        "id": "3dn3hwT98B9d"
      },
      "execution_count": 11,
      "outputs": []
    },
    {
      "cell_type": "code",
      "source": [
        "# suprimir los warnings (si los hubiera) para que no molesten\n",
        "warnings.filterwarnings(\"ignore\")\n",
        "\n",
        "# mayor ancho en los 'print()' antes que se generen saltos de línea\n",
        "np.set_printoptions(linewidth=130)                # saltos de línea (otra opción: linewidth=np.inf)\n",
        "np.set_printoptions(precision=4, suppress=True)   # 4 decimales en lugar de notación científica"
      ],
      "metadata": {
        "id": "15ZbmDH8Z5ZH"
      },
      "execution_count": 25,
      "outputs": []
    },
    {
      "cell_type": "markdown",
      "source": [
        "👉🏻 Cargar el dataset ..."
      ],
      "metadata": {
        "id": "6RbpKH-kMOpR"
      }
    },
    {
      "cell_type": "code",
      "source": [
        "df = pd.read_excel(\"Parcial 02 - Libros (preprocesado).xlsx\", sheet_name=\"Datos\")"
      ],
      "metadata": {
        "id": "r2svZR8kMPT6"
      },
      "execution_count": 2,
      "outputs": []
    },
    {
      "cell_type": "markdown",
      "source": [
        "👉🏻 Visualizar las descripciones de cada columna ..."
      ],
      "metadata": {
        "id": "1HPhHmCWMTKk"
      }
    },
    {
      "cell_type": "code",
      "source": [
        "df.info()"
      ],
      "metadata": {
        "colab": {
          "base_uri": "https://localhost:8080/"
        },
        "id": "naxINF0gOZEH",
        "outputId": "4ce058c0-3fc8-4a3d-eaad-62c7f9d533f4"
      },
      "execution_count": 3,
      "outputs": [
        {
          "output_type": "stream",
          "name": "stdout",
          "text": [
            "<class 'pandas.core.frame.DataFrame'>\n",
            "RangeIndex: 161 entries, 0 to 160\n",
            "Data columns (total 8 columns):\n",
            " #   Column              Non-Null Count  Dtype \n",
            "---  ------              --------------  ----- \n",
            " 0   Titulo              161 non-null    object\n",
            " 1   Prom. Palabras      161 non-null    int64 \n",
            " 2   Links Referencias   161 non-null    int64 \n",
            " 3   Cant. Comentarios   161 non-null    int64 \n",
            " 4   Present. Videos     161 non-null    int64 \n",
            " 5   Criticas Negaticas  161 non-null    int64 \n",
            " 6   Copias Vendidas     161 non-null    int64 \n",
            " 7   Categoría           161 non-null    int64 \n",
            "dtypes: int64(7), object(1)\n",
            "memory usage: 10.2+ KB\n"
          ]
        }
      ]
    },
    {
      "cell_type": "markdown",
      "source": [
        "👉🏻 Inspección inicial ..."
      ],
      "metadata": {
        "id": "yegk5k88Mg6n"
      }
    },
    {
      "cell_type": "code",
      "source": [
        "df.head(3)"
      ],
      "metadata": {
        "colab": {
          "base_uri": "https://localhost:8080/",
          "height": 196
        },
        "id": "8B_vDuJhRjhL",
        "outputId": "016e564c-cd7e-4c75-f2a0-4e57aa3f70cf"
      },
      "execution_count": 5,
      "outputs": [
        {
          "output_type": "execute_result",
          "data": {
            "text/plain": [
              "                                              Titulo  Prom. Palabras  \\\n",
              "0  What is Machine Learning and how do we use it ...            1888   \n",
              "1   10 Companies Using Machine Learning in Cool Ways            1742   \n",
              "2  How Artificial Intelligence Is Revolutionizing...             962   \n",
              "\n",
              "   Links Referencias  Cant. Comentarios  Present. Videos  Criticas Negaticas  \\\n",
              "0                  1                  2                2                  34   \n",
              "1                  9                  2                9                   5   \n",
              "2                  6                  7                1                  10   \n",
              "\n",
              "   Copias Vendidas  Categoría  \n",
              "0           200000          0  \n",
              "1            25000          0  \n",
              "2            42000          0  "
            ],
            "text/html": [
              "\n",
              "  <div id=\"df-462c16b2-acaf-4ac8-9783-bbcbf6453e4a\" class=\"colab-df-container\">\n",
              "    <div>\n",
              "<style scoped>\n",
              "    .dataframe tbody tr th:only-of-type {\n",
              "        vertical-align: middle;\n",
              "    }\n",
              "\n",
              "    .dataframe tbody tr th {\n",
              "        vertical-align: top;\n",
              "    }\n",
              "\n",
              "    .dataframe thead th {\n",
              "        text-align: right;\n",
              "    }\n",
              "</style>\n",
              "<table border=\"1\" class=\"dataframe\">\n",
              "  <thead>\n",
              "    <tr style=\"text-align: right;\">\n",
              "      <th></th>\n",
              "      <th>Titulo</th>\n",
              "      <th>Prom. Palabras</th>\n",
              "      <th>Links Referencias</th>\n",
              "      <th>Cant. Comentarios</th>\n",
              "      <th>Present. Videos</th>\n",
              "      <th>Criticas Negaticas</th>\n",
              "      <th>Copias Vendidas</th>\n",
              "      <th>Categoría</th>\n",
              "    </tr>\n",
              "  </thead>\n",
              "  <tbody>\n",
              "    <tr>\n",
              "      <th>0</th>\n",
              "      <td>What is Machine Learning and how do we use it ...</td>\n",
              "      <td>1888</td>\n",
              "      <td>1</td>\n",
              "      <td>2</td>\n",
              "      <td>2</td>\n",
              "      <td>34</td>\n",
              "      <td>200000</td>\n",
              "      <td>0</td>\n",
              "    </tr>\n",
              "    <tr>\n",
              "      <th>1</th>\n",
              "      <td>10 Companies Using Machine Learning in Cool Ways</td>\n",
              "      <td>1742</td>\n",
              "      <td>9</td>\n",
              "      <td>2</td>\n",
              "      <td>9</td>\n",
              "      <td>5</td>\n",
              "      <td>25000</td>\n",
              "      <td>0</td>\n",
              "    </tr>\n",
              "    <tr>\n",
              "      <th>2</th>\n",
              "      <td>How Artificial Intelligence Is Revolutionizing...</td>\n",
              "      <td>962</td>\n",
              "      <td>6</td>\n",
              "      <td>7</td>\n",
              "      <td>1</td>\n",
              "      <td>10</td>\n",
              "      <td>42000</td>\n",
              "      <td>0</td>\n",
              "    </tr>\n",
              "  </tbody>\n",
              "</table>\n",
              "</div>\n",
              "    <div class=\"colab-df-buttons\">\n",
              "\n",
              "  <div class=\"colab-df-container\">\n",
              "    <button class=\"colab-df-convert\" onclick=\"convertToInteractive('df-462c16b2-acaf-4ac8-9783-bbcbf6453e4a')\"\n",
              "            title=\"Convert this dataframe to an interactive table.\"\n",
              "            style=\"display:none;\">\n",
              "\n",
              "  <svg xmlns=\"http://www.w3.org/2000/svg\" height=\"24px\" viewBox=\"0 -960 960 960\">\n",
              "    <path d=\"M120-120v-720h720v720H120Zm60-500h600v-160H180v160Zm220 220h160v-160H400v160Zm0 220h160v-160H400v160ZM180-400h160v-160H180v160Zm440 0h160v-160H620v160ZM180-180h160v-160H180v160Zm440 0h160v-160H620v160Z\"/>\n",
              "  </svg>\n",
              "    </button>\n",
              "\n",
              "  <style>\n",
              "    .colab-df-container {\n",
              "      display:flex;\n",
              "      gap: 12px;\n",
              "    }\n",
              "\n",
              "    .colab-df-convert {\n",
              "      background-color: #E8F0FE;\n",
              "      border: none;\n",
              "      border-radius: 50%;\n",
              "      cursor: pointer;\n",
              "      display: none;\n",
              "      fill: #1967D2;\n",
              "      height: 32px;\n",
              "      padding: 0 0 0 0;\n",
              "      width: 32px;\n",
              "    }\n",
              "\n",
              "    .colab-df-convert:hover {\n",
              "      background-color: #E2EBFA;\n",
              "      box-shadow: 0px 1px 2px rgba(60, 64, 67, 0.3), 0px 1px 3px 1px rgba(60, 64, 67, 0.15);\n",
              "      fill: #174EA6;\n",
              "    }\n",
              "\n",
              "    .colab-df-buttons div {\n",
              "      margin-bottom: 4px;\n",
              "    }\n",
              "\n",
              "    [theme=dark] .colab-df-convert {\n",
              "      background-color: #3B4455;\n",
              "      fill: #D2E3FC;\n",
              "    }\n",
              "\n",
              "    [theme=dark] .colab-df-convert:hover {\n",
              "      background-color: #434B5C;\n",
              "      box-shadow: 0px 1px 3px 1px rgba(0, 0, 0, 0.15);\n",
              "      filter: drop-shadow(0px 1px 2px rgba(0, 0, 0, 0.3));\n",
              "      fill: #FFFFFF;\n",
              "    }\n",
              "  </style>\n",
              "\n",
              "    <script>\n",
              "      const buttonEl =\n",
              "        document.querySelector('#df-462c16b2-acaf-4ac8-9783-bbcbf6453e4a button.colab-df-convert');\n",
              "      buttonEl.style.display =\n",
              "        google.colab.kernel.accessAllowed ? 'block' : 'none';\n",
              "\n",
              "      async function convertToInteractive(key) {\n",
              "        const element = document.querySelector('#df-462c16b2-acaf-4ac8-9783-bbcbf6453e4a');\n",
              "        const dataTable =\n",
              "          await google.colab.kernel.invokeFunction('convertToInteractive',\n",
              "                                                    [key], {});\n",
              "        if (!dataTable) return;\n",
              "\n",
              "        const docLinkHtml = 'Like what you see? Visit the ' +\n",
              "          '<a target=\"_blank\" href=https://colab.research.google.com/notebooks/data_table.ipynb>data table notebook</a>'\n",
              "          + ' to learn more about interactive tables.';\n",
              "        element.innerHTML = '';\n",
              "        dataTable['output_type'] = 'display_data';\n",
              "        await google.colab.output.renderOutput(dataTable, element);\n",
              "        const docLink = document.createElement('div');\n",
              "        docLink.innerHTML = docLinkHtml;\n",
              "        element.appendChild(docLink);\n",
              "      }\n",
              "    </script>\n",
              "  </div>\n",
              "\n",
              "\n",
              "    <div id=\"df-8a085f68-38c6-4e67-8557-3d79a0f4b7b2\">\n",
              "      <button class=\"colab-df-quickchart\" onclick=\"quickchart('df-8a085f68-38c6-4e67-8557-3d79a0f4b7b2')\"\n",
              "                title=\"Suggest charts\"\n",
              "                style=\"display:none;\">\n",
              "\n",
              "<svg xmlns=\"http://www.w3.org/2000/svg\" height=\"24px\"viewBox=\"0 0 24 24\"\n",
              "     width=\"24px\">\n",
              "    <g>\n",
              "        <path d=\"M19 3H5c-1.1 0-2 .9-2 2v14c0 1.1.9 2 2 2h14c1.1 0 2-.9 2-2V5c0-1.1-.9-2-2-2zM9 17H7v-7h2v7zm4 0h-2V7h2v10zm4 0h-2v-4h2v4z\"/>\n",
              "    </g>\n",
              "</svg>\n",
              "      </button>\n",
              "\n",
              "<style>\n",
              "  .colab-df-quickchart {\n",
              "      --bg-color: #E8F0FE;\n",
              "      --fill-color: #1967D2;\n",
              "      --hover-bg-color: #E2EBFA;\n",
              "      --hover-fill-color: #174EA6;\n",
              "      --disabled-fill-color: #AAA;\n",
              "      --disabled-bg-color: #DDD;\n",
              "  }\n",
              "\n",
              "  [theme=dark] .colab-df-quickchart {\n",
              "      --bg-color: #3B4455;\n",
              "      --fill-color: #D2E3FC;\n",
              "      --hover-bg-color: #434B5C;\n",
              "      --hover-fill-color: #FFFFFF;\n",
              "      --disabled-bg-color: #3B4455;\n",
              "      --disabled-fill-color: #666;\n",
              "  }\n",
              "\n",
              "  .colab-df-quickchart {\n",
              "    background-color: var(--bg-color);\n",
              "    border: none;\n",
              "    border-radius: 50%;\n",
              "    cursor: pointer;\n",
              "    display: none;\n",
              "    fill: var(--fill-color);\n",
              "    height: 32px;\n",
              "    padding: 0;\n",
              "    width: 32px;\n",
              "  }\n",
              "\n",
              "  .colab-df-quickchart:hover {\n",
              "    background-color: var(--hover-bg-color);\n",
              "    box-shadow: 0 1px 2px rgba(60, 64, 67, 0.3), 0 1px 3px 1px rgba(60, 64, 67, 0.15);\n",
              "    fill: var(--button-hover-fill-color);\n",
              "  }\n",
              "\n",
              "  .colab-df-quickchart-complete:disabled,\n",
              "  .colab-df-quickchart-complete:disabled:hover {\n",
              "    background-color: var(--disabled-bg-color);\n",
              "    fill: var(--disabled-fill-color);\n",
              "    box-shadow: none;\n",
              "  }\n",
              "\n",
              "  .colab-df-spinner {\n",
              "    border: 2px solid var(--fill-color);\n",
              "    border-color: transparent;\n",
              "    border-bottom-color: var(--fill-color);\n",
              "    animation:\n",
              "      spin 1s steps(1) infinite;\n",
              "  }\n",
              "\n",
              "  @keyframes spin {\n",
              "    0% {\n",
              "      border-color: transparent;\n",
              "      border-bottom-color: var(--fill-color);\n",
              "      border-left-color: var(--fill-color);\n",
              "    }\n",
              "    20% {\n",
              "      border-color: transparent;\n",
              "      border-left-color: var(--fill-color);\n",
              "      border-top-color: var(--fill-color);\n",
              "    }\n",
              "    30% {\n",
              "      border-color: transparent;\n",
              "      border-left-color: var(--fill-color);\n",
              "      border-top-color: var(--fill-color);\n",
              "      border-right-color: var(--fill-color);\n",
              "    }\n",
              "    40% {\n",
              "      border-color: transparent;\n",
              "      border-right-color: var(--fill-color);\n",
              "      border-top-color: var(--fill-color);\n",
              "    }\n",
              "    60% {\n",
              "      border-color: transparent;\n",
              "      border-right-color: var(--fill-color);\n",
              "    }\n",
              "    80% {\n",
              "      border-color: transparent;\n",
              "      border-right-color: var(--fill-color);\n",
              "      border-bottom-color: var(--fill-color);\n",
              "    }\n",
              "    90% {\n",
              "      border-color: transparent;\n",
              "      border-bottom-color: var(--fill-color);\n",
              "    }\n",
              "  }\n",
              "</style>\n",
              "\n",
              "      <script>\n",
              "        async function quickchart(key) {\n",
              "          const quickchartButtonEl =\n",
              "            document.querySelector('#' + key + ' button');\n",
              "          quickchartButtonEl.disabled = true;  // To prevent multiple clicks.\n",
              "          quickchartButtonEl.classList.add('colab-df-spinner');\n",
              "          try {\n",
              "            const charts = await google.colab.kernel.invokeFunction(\n",
              "                'suggestCharts', [key], {});\n",
              "          } catch (error) {\n",
              "            console.error('Error during call to suggestCharts:', error);\n",
              "          }\n",
              "          quickchartButtonEl.classList.remove('colab-df-spinner');\n",
              "          quickchartButtonEl.classList.add('colab-df-quickchart-complete');\n",
              "        }\n",
              "        (() => {\n",
              "          let quickchartButtonEl =\n",
              "            document.querySelector('#df-8a085f68-38c6-4e67-8557-3d79a0f4b7b2 button');\n",
              "          quickchartButtonEl.style.display =\n",
              "            google.colab.kernel.accessAllowed ? 'block' : 'none';\n",
              "        })();\n",
              "      </script>\n",
              "    </div>\n",
              "\n",
              "    </div>\n",
              "  </div>\n"
            ],
            "application/vnd.google.colaboratory.intrinsic+json": {
              "type": "dataframe",
              "variable_name": "df",
              "summary": "{\n  \"name\": \"df\",\n  \"rows\": 161,\n  \"fields\": [\n    {\n      \"column\": \"Titulo\",\n      \"properties\": {\n        \"dtype\": \"string\",\n        \"num_unique_values\": 161,\n        \"samples\": [\n          \"[Log] 32: HBO\\u2019s Silicon Valley on A.I. driven products: Not HotDog\",\n          \"[Log] 35: Apple launches machine learning research site\",\n          \"[Log] 69: Learn deeply, but baby, don\\u2019t fear the Skynet\"\n        ],\n        \"semantic_type\": \"\",\n        \"description\": \"\"\n      }\n    },\n    {\n      \"column\": \"Prom. Palabras\",\n      \"properties\": {\n        \"dtype\": \"number\",\n        \"std\": 1141,\n        \"min\": 250,\n        \"max\": 8401,\n        \"num_unique_values\": 157,\n        \"samples\": [\n          2354,\n          895,\n          774\n        ],\n        \"semantic_type\": \"\",\n        \"description\": \"\"\n      }\n    },\n    {\n      \"column\": \"Links Referencias\",\n      \"properties\": {\n        \"dtype\": \"number\",\n        \"std\": 47,\n        \"min\": 0,\n        \"max\": 600,\n        \"num_unique_values\": 23,\n        \"samples\": [\n          39,\n          10,\n          1\n        ],\n        \"semantic_type\": \"\",\n        \"description\": \"\"\n      }\n    },\n    {\n      \"column\": \"Cant. Comentarios\",\n      \"properties\": {\n        \"dtype\": \"number\",\n        \"std\": 13,\n        \"min\": 0,\n        \"max\": 104,\n        \"num_unique_values\": 32,\n        \"samples\": [\n          34,\n          11,\n          13\n        ],\n        \"semantic_type\": \"\",\n        \"description\": \"\"\n      }\n    },\n    {\n      \"column\": \"Present. Videos\",\n      \"properties\": {\n        \"dtype\": \"number\",\n        \"std\": 3,\n        \"min\": 1,\n        \"max\": 22,\n        \"num_unique_values\": 15,\n        \"samples\": [\n          20,\n          11,\n          2\n        ],\n        \"semantic_type\": \"\",\n        \"description\": \"\"\n      }\n    },\n    {\n      \"column\": \"Criticas Negaticas\",\n      \"properties\": {\n        \"dtype\": \"number\",\n        \"std\": 114,\n        \"min\": 1,\n        \"max\": 1002,\n        \"num_unique_values\": 133,\n        \"samples\": [\n          307,\n          4,\n          30\n        ],\n        \"semantic_type\": \"\",\n        \"description\": \"\"\n      }\n    },\n    {\n      \"column\": \"Copias Vendidas\",\n      \"properties\": {\n        \"dtype\": \"number\",\n        \"std\": 43408,\n        \"min\": 0,\n        \"max\": 350000,\n        \"num_unique_values\": 144,\n        \"samples\": [\n          54198,\n          2400,\n          12269\n        ],\n        \"semantic_type\": \"\",\n        \"description\": \"\"\n      }\n    },\n    {\n      \"column\": \"Categor\\u00eda\",\n      \"properties\": {\n        \"dtype\": \"number\",\n        \"std\": 0,\n        \"min\": 0,\n        \"max\": 1,\n        \"num_unique_values\": 2,\n        \"samples\": [\n          1,\n          0\n        ],\n        \"semantic_type\": \"\",\n        \"description\": \"\"\n      }\n    }\n  ]\n}"
            }
          },
          "metadata": {},
          "execution_count": 5
        }
      ]
    },
    {
      "cell_type": "code",
      "source": [
        "print(df.shape)   # 161 filas x 8 columnas"
      ],
      "metadata": {
        "colab": {
          "base_uri": "https://localhost:8080/"
        },
        "id": "uPxNQDlvMhv0",
        "outputId": "88ea52a6-3440-40df-ab7d-a871b14d2d3d"
      },
      "execution_count": 6,
      "outputs": [
        {
          "output_type": "stream",
          "name": "stdout",
          "text": [
            "(161, 8)\n"
          ]
        }
      ]
    },
    {
      "cell_type": "markdown",
      "source": [
        "👉🏻 Extraer los features y el target ..."
      ],
      "metadata": {
        "id": "UTzKkM0iMWlt"
      }
    },
    {
      "cell_type": "code",
      "source": [
        "x = df.drop(columns=[\"Titulo\", \"Categoría\"])  # features\n",
        "y = df[[\"Categoría\"]]               # target\n",
        "\n",
        "print(f\"features: { x.shape }, target { y.shape }\")"
      ],
      "metadata": {
        "colab": {
          "base_uri": "https://localhost:8080/"
        },
        "id": "S1QL_yF5MaTl",
        "outputId": "e4be0af6-6c57-4483-f301-d5d72a153bdf"
      },
      "execution_count": 12,
      "outputs": [
        {
          "output_type": "stream",
          "name": "stdout",
          "text": [
            "features: (161, 6), target (161, 1)\n"
          ]
        }
      ]
    },
    {
      "cell_type": "markdown",
      "source": [
        "## 🔎 Parte 2. **Análisis Exploratorio de Datos (EDA)**"
      ],
      "metadata": {
        "id": "lQCwZJM0TUQP"
      }
    },
    {
      "cell_type": "markdown",
      "source": [
        "👉🏻 Media, desviación estadar, mínimos y máximos ..."
      ],
      "metadata": {
        "id": "zV54nP3xTscO"
      }
    },
    {
      "cell_type": "code",
      "source": [
        "df.describe()"
      ],
      "metadata": {
        "colab": {
          "base_uri": "https://localhost:8080/",
          "height": 300
        },
        "id": "YeKPwQCNMTs7",
        "outputId": "5c1c75cd-e988-4a19-ee62-cce78a15a749"
      },
      "execution_count": 13,
      "outputs": [
        {
          "output_type": "execute_result",
          "data": {
            "text/plain": [
              "       Prom. Palabras  Links Referencias  Cant. Comentarios  Present. Videos  \\\n",
              "count      161.000000         161.000000         161.000000       161.000000   \n",
              "mean      1808.260870           9.739130           9.975155         3.670807   \n",
              "std       1141.919385          47.271625          13.342109         3.418290   \n",
              "min        250.000000           0.000000           0.000000         1.000000   \n",
              "25%        990.000000           3.000000           3.000000         1.000000   \n",
              "50%       1674.000000           5.000000           7.000000         3.000000   \n",
              "75%       2369.000000           7.000000          12.000000         5.000000   \n",
              "max       8401.000000         600.000000         104.000000        22.000000   \n",
              "\n",
              "       Criticas Negaticas  Copias Vendidas   Categoría  \n",
              "count          161.000000       161.000000  161.000000  \n",
              "mean            98.124224     27948.347826    0.546584  \n",
              "std            114.337535     43408.006839    0.499378  \n",
              "min              1.000000         0.000000    0.000000  \n",
              "25%             31.000000      2800.000000    0.000000  \n",
              "50%             62.000000     16458.000000    1.000000  \n",
              "75%            124.000000     35691.000000    1.000000  \n",
              "max           1002.000000    350000.000000    1.000000  "
            ],
            "text/html": [
              "\n",
              "  <div id=\"df-e5b44ca1-c35d-48b9-92e0-724c93162e15\" class=\"colab-df-container\">\n",
              "    <div>\n",
              "<style scoped>\n",
              "    .dataframe tbody tr th:only-of-type {\n",
              "        vertical-align: middle;\n",
              "    }\n",
              "\n",
              "    .dataframe tbody tr th {\n",
              "        vertical-align: top;\n",
              "    }\n",
              "\n",
              "    .dataframe thead th {\n",
              "        text-align: right;\n",
              "    }\n",
              "</style>\n",
              "<table border=\"1\" class=\"dataframe\">\n",
              "  <thead>\n",
              "    <tr style=\"text-align: right;\">\n",
              "      <th></th>\n",
              "      <th>Prom. Palabras</th>\n",
              "      <th>Links Referencias</th>\n",
              "      <th>Cant. Comentarios</th>\n",
              "      <th>Present. Videos</th>\n",
              "      <th>Criticas Negaticas</th>\n",
              "      <th>Copias Vendidas</th>\n",
              "      <th>Categoría</th>\n",
              "    </tr>\n",
              "  </thead>\n",
              "  <tbody>\n",
              "    <tr>\n",
              "      <th>count</th>\n",
              "      <td>161.000000</td>\n",
              "      <td>161.000000</td>\n",
              "      <td>161.000000</td>\n",
              "      <td>161.000000</td>\n",
              "      <td>161.000000</td>\n",
              "      <td>161.000000</td>\n",
              "      <td>161.000000</td>\n",
              "    </tr>\n",
              "    <tr>\n",
              "      <th>mean</th>\n",
              "      <td>1808.260870</td>\n",
              "      <td>9.739130</td>\n",
              "      <td>9.975155</td>\n",
              "      <td>3.670807</td>\n",
              "      <td>98.124224</td>\n",
              "      <td>27948.347826</td>\n",
              "      <td>0.546584</td>\n",
              "    </tr>\n",
              "    <tr>\n",
              "      <th>std</th>\n",
              "      <td>1141.919385</td>\n",
              "      <td>47.271625</td>\n",
              "      <td>13.342109</td>\n",
              "      <td>3.418290</td>\n",
              "      <td>114.337535</td>\n",
              "      <td>43408.006839</td>\n",
              "      <td>0.499378</td>\n",
              "    </tr>\n",
              "    <tr>\n",
              "      <th>min</th>\n",
              "      <td>250.000000</td>\n",
              "      <td>0.000000</td>\n",
              "      <td>0.000000</td>\n",
              "      <td>1.000000</td>\n",
              "      <td>1.000000</td>\n",
              "      <td>0.000000</td>\n",
              "      <td>0.000000</td>\n",
              "    </tr>\n",
              "    <tr>\n",
              "      <th>25%</th>\n",
              "      <td>990.000000</td>\n",
              "      <td>3.000000</td>\n",
              "      <td>3.000000</td>\n",
              "      <td>1.000000</td>\n",
              "      <td>31.000000</td>\n",
              "      <td>2800.000000</td>\n",
              "      <td>0.000000</td>\n",
              "    </tr>\n",
              "    <tr>\n",
              "      <th>50%</th>\n",
              "      <td>1674.000000</td>\n",
              "      <td>5.000000</td>\n",
              "      <td>7.000000</td>\n",
              "      <td>3.000000</td>\n",
              "      <td>62.000000</td>\n",
              "      <td>16458.000000</td>\n",
              "      <td>1.000000</td>\n",
              "    </tr>\n",
              "    <tr>\n",
              "      <th>75%</th>\n",
              "      <td>2369.000000</td>\n",
              "      <td>7.000000</td>\n",
              "      <td>12.000000</td>\n",
              "      <td>5.000000</td>\n",
              "      <td>124.000000</td>\n",
              "      <td>35691.000000</td>\n",
              "      <td>1.000000</td>\n",
              "    </tr>\n",
              "    <tr>\n",
              "      <th>max</th>\n",
              "      <td>8401.000000</td>\n",
              "      <td>600.000000</td>\n",
              "      <td>104.000000</td>\n",
              "      <td>22.000000</td>\n",
              "      <td>1002.000000</td>\n",
              "      <td>350000.000000</td>\n",
              "      <td>1.000000</td>\n",
              "    </tr>\n",
              "  </tbody>\n",
              "</table>\n",
              "</div>\n",
              "    <div class=\"colab-df-buttons\">\n",
              "\n",
              "  <div class=\"colab-df-container\">\n",
              "    <button class=\"colab-df-convert\" onclick=\"convertToInteractive('df-e5b44ca1-c35d-48b9-92e0-724c93162e15')\"\n",
              "            title=\"Convert this dataframe to an interactive table.\"\n",
              "            style=\"display:none;\">\n",
              "\n",
              "  <svg xmlns=\"http://www.w3.org/2000/svg\" height=\"24px\" viewBox=\"0 -960 960 960\">\n",
              "    <path d=\"M120-120v-720h720v720H120Zm60-500h600v-160H180v160Zm220 220h160v-160H400v160Zm0 220h160v-160H400v160ZM180-400h160v-160H180v160Zm440 0h160v-160H620v160ZM180-180h160v-160H180v160Zm440 0h160v-160H620v160Z\"/>\n",
              "  </svg>\n",
              "    </button>\n",
              "\n",
              "  <style>\n",
              "    .colab-df-container {\n",
              "      display:flex;\n",
              "      gap: 12px;\n",
              "    }\n",
              "\n",
              "    .colab-df-convert {\n",
              "      background-color: #E8F0FE;\n",
              "      border: none;\n",
              "      border-radius: 50%;\n",
              "      cursor: pointer;\n",
              "      display: none;\n",
              "      fill: #1967D2;\n",
              "      height: 32px;\n",
              "      padding: 0 0 0 0;\n",
              "      width: 32px;\n",
              "    }\n",
              "\n",
              "    .colab-df-convert:hover {\n",
              "      background-color: #E2EBFA;\n",
              "      box-shadow: 0px 1px 2px rgba(60, 64, 67, 0.3), 0px 1px 3px 1px rgba(60, 64, 67, 0.15);\n",
              "      fill: #174EA6;\n",
              "    }\n",
              "\n",
              "    .colab-df-buttons div {\n",
              "      margin-bottom: 4px;\n",
              "    }\n",
              "\n",
              "    [theme=dark] .colab-df-convert {\n",
              "      background-color: #3B4455;\n",
              "      fill: #D2E3FC;\n",
              "    }\n",
              "\n",
              "    [theme=dark] .colab-df-convert:hover {\n",
              "      background-color: #434B5C;\n",
              "      box-shadow: 0px 1px 3px 1px rgba(0, 0, 0, 0.15);\n",
              "      filter: drop-shadow(0px 1px 2px rgba(0, 0, 0, 0.3));\n",
              "      fill: #FFFFFF;\n",
              "    }\n",
              "  </style>\n",
              "\n",
              "    <script>\n",
              "      const buttonEl =\n",
              "        document.querySelector('#df-e5b44ca1-c35d-48b9-92e0-724c93162e15 button.colab-df-convert');\n",
              "      buttonEl.style.display =\n",
              "        google.colab.kernel.accessAllowed ? 'block' : 'none';\n",
              "\n",
              "      async function convertToInteractive(key) {\n",
              "        const element = document.querySelector('#df-e5b44ca1-c35d-48b9-92e0-724c93162e15');\n",
              "        const dataTable =\n",
              "          await google.colab.kernel.invokeFunction('convertToInteractive',\n",
              "                                                    [key], {});\n",
              "        if (!dataTable) return;\n",
              "\n",
              "        const docLinkHtml = 'Like what you see? Visit the ' +\n",
              "          '<a target=\"_blank\" href=https://colab.research.google.com/notebooks/data_table.ipynb>data table notebook</a>'\n",
              "          + ' to learn more about interactive tables.';\n",
              "        element.innerHTML = '';\n",
              "        dataTable['output_type'] = 'display_data';\n",
              "        await google.colab.output.renderOutput(dataTable, element);\n",
              "        const docLink = document.createElement('div');\n",
              "        docLink.innerHTML = docLinkHtml;\n",
              "        element.appendChild(docLink);\n",
              "      }\n",
              "    </script>\n",
              "  </div>\n",
              "\n",
              "\n",
              "    <div id=\"df-8eae969a-17bf-4869-9b1b-61ae44798222\">\n",
              "      <button class=\"colab-df-quickchart\" onclick=\"quickchart('df-8eae969a-17bf-4869-9b1b-61ae44798222')\"\n",
              "                title=\"Suggest charts\"\n",
              "                style=\"display:none;\">\n",
              "\n",
              "<svg xmlns=\"http://www.w3.org/2000/svg\" height=\"24px\"viewBox=\"0 0 24 24\"\n",
              "     width=\"24px\">\n",
              "    <g>\n",
              "        <path d=\"M19 3H5c-1.1 0-2 .9-2 2v14c0 1.1.9 2 2 2h14c1.1 0 2-.9 2-2V5c0-1.1-.9-2-2-2zM9 17H7v-7h2v7zm4 0h-2V7h2v10zm4 0h-2v-4h2v4z\"/>\n",
              "    </g>\n",
              "</svg>\n",
              "      </button>\n",
              "\n",
              "<style>\n",
              "  .colab-df-quickchart {\n",
              "      --bg-color: #E8F0FE;\n",
              "      --fill-color: #1967D2;\n",
              "      --hover-bg-color: #E2EBFA;\n",
              "      --hover-fill-color: #174EA6;\n",
              "      --disabled-fill-color: #AAA;\n",
              "      --disabled-bg-color: #DDD;\n",
              "  }\n",
              "\n",
              "  [theme=dark] .colab-df-quickchart {\n",
              "      --bg-color: #3B4455;\n",
              "      --fill-color: #D2E3FC;\n",
              "      --hover-bg-color: #434B5C;\n",
              "      --hover-fill-color: #FFFFFF;\n",
              "      --disabled-bg-color: #3B4455;\n",
              "      --disabled-fill-color: #666;\n",
              "  }\n",
              "\n",
              "  .colab-df-quickchart {\n",
              "    background-color: var(--bg-color);\n",
              "    border: none;\n",
              "    border-radius: 50%;\n",
              "    cursor: pointer;\n",
              "    display: none;\n",
              "    fill: var(--fill-color);\n",
              "    height: 32px;\n",
              "    padding: 0;\n",
              "    width: 32px;\n",
              "  }\n",
              "\n",
              "  .colab-df-quickchart:hover {\n",
              "    background-color: var(--hover-bg-color);\n",
              "    box-shadow: 0 1px 2px rgba(60, 64, 67, 0.3), 0 1px 3px 1px rgba(60, 64, 67, 0.15);\n",
              "    fill: var(--button-hover-fill-color);\n",
              "  }\n",
              "\n",
              "  .colab-df-quickchart-complete:disabled,\n",
              "  .colab-df-quickchart-complete:disabled:hover {\n",
              "    background-color: var(--disabled-bg-color);\n",
              "    fill: var(--disabled-fill-color);\n",
              "    box-shadow: none;\n",
              "  }\n",
              "\n",
              "  .colab-df-spinner {\n",
              "    border: 2px solid var(--fill-color);\n",
              "    border-color: transparent;\n",
              "    border-bottom-color: var(--fill-color);\n",
              "    animation:\n",
              "      spin 1s steps(1) infinite;\n",
              "  }\n",
              "\n",
              "  @keyframes spin {\n",
              "    0% {\n",
              "      border-color: transparent;\n",
              "      border-bottom-color: var(--fill-color);\n",
              "      border-left-color: var(--fill-color);\n",
              "    }\n",
              "    20% {\n",
              "      border-color: transparent;\n",
              "      border-left-color: var(--fill-color);\n",
              "      border-top-color: var(--fill-color);\n",
              "    }\n",
              "    30% {\n",
              "      border-color: transparent;\n",
              "      border-left-color: var(--fill-color);\n",
              "      border-top-color: var(--fill-color);\n",
              "      border-right-color: var(--fill-color);\n",
              "    }\n",
              "    40% {\n",
              "      border-color: transparent;\n",
              "      border-right-color: var(--fill-color);\n",
              "      border-top-color: var(--fill-color);\n",
              "    }\n",
              "    60% {\n",
              "      border-color: transparent;\n",
              "      border-right-color: var(--fill-color);\n",
              "    }\n",
              "    80% {\n",
              "      border-color: transparent;\n",
              "      border-right-color: var(--fill-color);\n",
              "      border-bottom-color: var(--fill-color);\n",
              "    }\n",
              "    90% {\n",
              "      border-color: transparent;\n",
              "      border-bottom-color: var(--fill-color);\n",
              "    }\n",
              "  }\n",
              "</style>\n",
              "\n",
              "      <script>\n",
              "        async function quickchart(key) {\n",
              "          const quickchartButtonEl =\n",
              "            document.querySelector('#' + key + ' button');\n",
              "          quickchartButtonEl.disabled = true;  // To prevent multiple clicks.\n",
              "          quickchartButtonEl.classList.add('colab-df-spinner');\n",
              "          try {\n",
              "            const charts = await google.colab.kernel.invokeFunction(\n",
              "                'suggestCharts', [key], {});\n",
              "          } catch (error) {\n",
              "            console.error('Error during call to suggestCharts:', error);\n",
              "          }\n",
              "          quickchartButtonEl.classList.remove('colab-df-spinner');\n",
              "          quickchartButtonEl.classList.add('colab-df-quickchart-complete');\n",
              "        }\n",
              "        (() => {\n",
              "          let quickchartButtonEl =\n",
              "            document.querySelector('#df-8eae969a-17bf-4869-9b1b-61ae44798222 button');\n",
              "          quickchartButtonEl.style.display =\n",
              "            google.colab.kernel.accessAllowed ? 'block' : 'none';\n",
              "        })();\n",
              "      </script>\n",
              "    </div>\n",
              "\n",
              "    </div>\n",
              "  </div>\n"
            ],
            "application/vnd.google.colaboratory.intrinsic+json": {
              "type": "dataframe",
              "summary": "{\n  \"name\": \"df\",\n  \"rows\": 8,\n  \"fields\": [\n    {\n      \"column\": \"Prom. Palabras\",\n      \"properties\": {\n        \"dtype\": \"number\",\n        \"std\": 2655.823420377734,\n        \"min\": 161.0,\n        \"max\": 8401.0,\n        \"num_unique_values\": 8,\n        \"samples\": [\n          1808.2608695652175,\n          1674.0,\n          161.0\n        ],\n        \"semantic_type\": \"\",\n        \"description\": \"\"\n      }\n    },\n    {\n      \"column\": \"Links Referencias\",\n      \"properties\": {\n        \"dtype\": \"number\",\n        \"std\": 207.56929733331316,\n        \"min\": 0.0,\n        \"max\": 600.0,\n        \"num_unique_values\": 8,\n        \"samples\": [\n          9.73913043478261,\n          5.0,\n          161.0\n        ],\n        \"semantic_type\": \"\",\n        \"description\": \"\"\n      }\n    },\n    {\n      \"column\": \"Cant. Comentarios\",\n      \"properties\": {\n        \"dtype\": \"number\",\n        \"std\": 59.97548906444525,\n        \"min\": 0.0,\n        \"max\": 161.0,\n        \"num_unique_values\": 8,\n        \"samples\": [\n          9.975155279503106,\n          7.0,\n          161.0\n        ],\n        \"semantic_type\": \"\",\n        \"description\": \"\"\n      }\n    },\n    {\n      \"column\": \"Present. Videos\",\n      \"properties\": {\n        \"dtype\": \"number\",\n        \"std\": 55.371090547250276,\n        \"min\": 1.0,\n        \"max\": 161.0,\n        \"num_unique_values\": 7,\n        \"samples\": [\n          161.0,\n          3.670807453416149,\n          5.0\n        ],\n        \"semantic_type\": \"\",\n        \"description\": \"\"\n      }\n    },\n    {\n      \"column\": \"Criticas Negaticas\",\n      \"properties\": {\n        \"dtype\": \"number\",\n        \"std\": 328.50709670639753,\n        \"min\": 1.0,\n        \"max\": 1002.0,\n        \"num_unique_values\": 8,\n        \"samples\": [\n          98.12422360248448,\n          62.0,\n          161.0\n        ],\n        \"semantic_type\": \"\",\n        \"description\": \"\"\n      }\n    },\n    {\n      \"column\": \"Copias Vendidas\",\n      \"properties\": {\n        \"dtype\": \"number\",\n        \"std\": 118526.92339053167,\n        \"min\": 0.0,\n        \"max\": 350000.0,\n        \"num_unique_values\": 8,\n        \"samples\": [\n          27948.347826086956,\n          16458.0,\n          161.0\n        ],\n        \"semantic_type\": \"\",\n        \"description\": \"\"\n      }\n    },\n    {\n      \"column\": \"Categor\\u00eda\",\n      \"properties\": {\n        \"dtype\": \"number\",\n        \"std\": 56.719267225169794,\n        \"min\": 0.0,\n        \"max\": 161.0,\n        \"num_unique_values\": 5,\n        \"samples\": [\n          0.546583850931677,\n          1.0,\n          0.4993784957200083\n        ],\n        \"semantic_type\": \"\",\n        \"description\": \"\"\n      }\n    }\n  ]\n}"
            }
          },
          "metadata": {},
          "execution_count": 13
        }
      ]
    },
    {
      "cell_type": "markdown",
      "source": [
        "> 👁️‍🗨️ Mucha disparidad en la dispersión de los datos (desviación estandar) entre las distintas features.  \n",
        "Por ejemplo `Cant. Comentarios` con una desviación estandar de 13.3 y `Copias Vendidas` con 43408.0.  \n",
        "\n",
        "> 👁️‍🗨️ Definitivamente va a requerir aplicar algún `escalado` a las features previo a entrenar al modelo.  \n",
        "Este proceso lo realizo en la siguiente sección `Parte 3. Preprocesamiento`."
      ],
      "metadata": {
        "id": "7XYTUFeeTzs8"
      }
    },
    {
      "cell_type": "markdown",
      "source": [
        "## ✂️ Parte 3. **Preprocesamiento**"
      ],
      "metadata": {
        "id": "oe8Eo5vQK53Z"
      }
    },
    {
      "cell_type": "markdown",
      "source": [
        "> Tal lo comento en detalle en el archivo `Parcial 02 - Explicación Paso a Paso.pdf`, la generación de la columna con los `labels` ya se encuentra resuelta de entrada en la planilla de cálculo."
      ],
      "metadata": {
        "id": "cpxE7RTiK8Du"
      }
    },
    {
      "cell_type": "markdown",
      "source": [
        "👉🏻 Validación por nulos ..."
      ],
      "metadata": {
        "id": "tzFnDISTMqvi"
      }
    },
    {
      "cell_type": "code",
      "source": [
        "print('nulos en el dataset:', x.isnull().sum().values)"
      ],
      "metadata": {
        "colab": {
          "base_uri": "https://localhost:8080/"
        },
        "id": "tb9VxfEzMrXK",
        "outputId": "9a6ef26b-97b5-4c63-ea69-81b2bbd12653"
      },
      "execution_count": 14,
      "outputs": [
        {
          "output_type": "stream",
          "name": "stdout",
          "text": [
            "nulos en el dataset: [0 0 0 0 0 0]\n"
          ]
        }
      ]
    },
    {
      "cell_type": "markdown",
      "source": [
        "👉🏻 Validación por duplicados ..."
      ],
      "metadata": {
        "id": "Rk8lTzkKMwkc"
      }
    },
    {
      "cell_type": "code",
      "source": [
        "print('duplicados en el dataset:', x.duplicated().sum())"
      ],
      "metadata": {
        "colab": {
          "base_uri": "https://localhost:8080/"
        },
        "id": "Q1Kyo2IVMxW8",
        "outputId": "21a1fe79-b1e1-49a1-a4ce-b6514b4c9898"
      },
      "execution_count": 15,
      "outputs": [
        {
          "output_type": "stream",
          "name": "stdout",
          "text": [
            "duplicados en el dataset: 0\n"
          ]
        }
      ]
    },
    {
      "cell_type": "markdown",
      "source": [
        "👉🏻 Análisis de correlaciones entre features ..."
      ],
      "metadata": {
        "id": "zmOA3OULVTqt"
      }
    },
    {
      "cell_type": "code",
      "source": [
        "correlation = x.corr()\n",
        "\n",
        "plt.figure(figsize=(7.5, 6))\n",
        "sns.heatmap(correlation, annot=True, cmap='coolwarm', annot_kws={\"size\": 8})\n",
        "plt.title('Matriz de Correlación', pad=15)\n",
        "plt.xticks(rotation=45, ha='right', fontsize=8)   # rotar los label a 45 grados y alinear su texto\n",
        "plt.yticks(rotation=45, va='top', fontsize=8)     # rotar los label a 45 grados y alinear su texto\n",
        "plt.show()"
      ],
      "metadata": {
        "colab": {
          "base_uri": "https://localhost:8080/",
          "height": 624
        },
        "id": "yP5htiE8Va4T",
        "outputId": "22ef774d-eafa-42ff-abd6-4472bf7b9f9e"
      },
      "execution_count": 17,
      "outputs": [
        {
          "output_type": "display_data",
          "data": {
            "text/plain": [
              "<Figure size 750x600 with 2 Axes>"
            ],
            "image/png": "[encoded data removed]"
          },
          "metadata": {}
        }
      ]
    },
    {
      "cell_type": "markdown",
      "source": [
        "> 👁️‍🗨️ Pareciera haber una correlación media entre `Prom. Palabras` y `Present. Videos`.\n",
        "\n",
        "> 👁️‍🗨️ Pese a ello, con una magnitud de 0.46 entre ambas, no lo considero -a priori- que sea tan grave como para requerir eliminar alguna de estas features como 'duplicada' de la otra."
      ],
      "metadata": {
        "id": "iQC3wYpRV7Pa"
      }
    },
    {
      "cell_type": "markdown",
      "source": [
        "👉🏻 Escalado de features ...\n",
        "\n",
        "- Del `Análisis Exploratorio de Datos` se observó la enorme disparidad en los **rangos** entre las features.\n",
        "\n",
        "- Para el caso de los `Arbol de Decisión` esto no impacta.\n",
        "\n",
        "- Sin embargo para los algoritmos que se basan en calcular distancias, como por ejemplo el `K-Nearest Neighbors`, esto puede presentar un problema grave.\n",
        "\n",
        "- Una noción del problema: si por ej. un feature A tiene un rango del 1-5, y un feature B tiene un rango de valores comprendido entre 1-1000000, al momento de calcular las distancias a los vecinos más cercanos, el feature A tendrá injustamente muchísima mayor relevancia que el feature B.\n",
        "\n",
        "- Para mitigar esta disparidad se utiliza el `escalado` previo a entrenar los modelos basados en distancias.\n",
        "\n",
        "- En el caso del `StandardScaler` ajusta (en gral. implica achicar) los valores de cada feature, de forma que sus datos queden centrados con un valor medio de 0, y una desviación estandar -1/+1."
      ],
      "metadata": {
        "id": "yCCDDoUgZCuA"
      }
    },
    {
      "cell_type": "code",
      "source": [
        "scaler = StandardScaler()           # crear la instancia del scaler\n",
        "x_scaled = scaler.fit_transform(x)  # ajustar las escalas a los features\n",
        "x_scaled[:3]                        # una muestra"
      ],
      "metadata": {
        "colab": {
          "base_uri": "https://localhost:8080/"
        },
        "id": "HgVReOf7ZE35",
        "outputId": "7f001ad3-e16e-440b-e3c4-53898d503d9e"
      },
      "execution_count": 27,
      "outputs": [
        {
          "output_type": "execute_result",
          "data": {
            "text/plain": [
              "array([[ 0.07  , -0.1854, -0.5996, -0.4903, -0.5626,  3.976 ],\n",
              "       [-0.0582, -0.0157, -0.5996,  1.5639, -0.817 , -0.0681],\n",
              "       [-0.7434, -0.0793, -0.2237, -0.7838, -0.7731,  0.3247]])"
            ]
          },
          "metadata": {},
          "execution_count": 27
        }
      ]
    },
    {
      "cell_type": "markdown",
      "source": [
        "👉🏻 Separar los datos en los conjuntos de **entrenamiento** y **prueba** ...\n",
        "\n",
        "- Para algoritmos de clasificación, conviene activar la `estratificación` como salvaguarda en caso que las clases estén desbalanceadas.\n",
        "- Esto analiza el dataset previo a la separación, y garantiza que se preserve el mismo ratio original de clases, sobre los conjuntos de entrenamiento y prueba resultantes.\n",
        "- Más info al respecto en la sección `Referencias`."
      ],
      "metadata": {
        "id": "uKD3mhXHYLhq"
      }
    },
    {
      "cell_type": "code",
      "source": [
        "x_train, x_test, y_train, y_test = train_test_split(x, y, test_size=0.2, stratify=y, random_state=1234)"
      ],
      "metadata": {
        "id": "KmPS7ZvSYMMp"
      },
      "execution_count": 29,
      "outputs": []
    },
    {
      "cell_type": "markdown",
      "source": [
        "## 🌳 Parte 4. **Algoritmo Árbol de Decisión**"
      ],
      "metadata": {
        "id": "22I2SB7o71yP"
      }
    },
    {
      "cell_type": "markdown",
      "source": [
        "👉🏻 Entrenar el Árbol de Decisión ..."
      ],
      "metadata": {
        "id": "Zr-aHSx8p5rX"
      }
    },
    {
      "cell_type": "code",
      "execution_count": 86,
      "metadata": {
        "colab": {
          "base_uri": "https://localhost:8080/"
        },
        "id": "KjdYn5nZo79f",
        "outputId": "4988f46f-e0eb-4016-d003-e284f0ba4991"
      },
      "outputs": [
        {
          "output_type": "stream",
          "name": "stdout",
          "text": [
            "Árbol:  accuracy=0.9697   f1-score=0.973\n"
          ]
        }
      ],
      "source": [
        "tree_model = DecisionTreeClassifier(random_state=1234)\n",
        "tree_model.fit(x_train, y_train)\n",
        "\n",
        "# hacer las predicciones sobre el conj. de test\n",
        "tree_y_pred = tree_model.predict(x_test)\n",
        "\n",
        "# calcular la métrica 'accuracy' (exactitud)\n",
        "tree_accuracy = accuracy_score(y_test, tree_y_pred)\n",
        "\n",
        "# calcular la métrica 'f1-score'\n",
        "# esta es un balance entre 'precisión' (error tipo I) y 'sensibilidad/recall' (error tipo II)\n",
        "tree_f1_score = f1_score(y_test, tree_y_pred)\n",
        "\n",
        "# mostrar los resultados\n",
        "print(f\"Árbol:  accuracy={ round(tree_accuracy, 4) }   f1-score={ round(tree_f1_score, 4) }\")"
      ]
    },
    {
      "cell_type": "markdown",
      "source": [
        "👉🏻 Métricas en detalle ..."
      ],
      "metadata": {
        "id": "-pIBfVezrbmf"
      }
    },
    {
      "cell_type": "code",
      "source": [
        "# calcular sus métricas\n",
        "tree_conf_matrix = confusion_matrix(y_test, tree_y_pred)\n",
        "tree_accuracy = accuracy_score(y_test, tree_y_pred)\n",
        "tree_f1_score = f1_score(y_test, tree_y_pred)\n",
        "tree_report = classification_report(y_test, tree_y_pred)\n",
        "\n",
        "# mostrar resultados\n",
        "print(\"** Árbol de Decisión **  (conj. de test)\", \"\\n\")\n",
        "print(\"Matriz de confusión:\")\n",
        "print(tree_conf_matrix, \"\\n\")\n",
        "print(\"Accuracy: \", round(tree_accuracy, 4))\n",
        "print(\"F1-Score: \", round(tree_f1_score, 4), \"\\n\")\n",
        "print(\"Reporte: \")\n",
        "print(tree_report)"
      ],
      "metadata": {
        "colab": {
          "base_uri": "https://localhost:8080/"
        },
        "id": "vyrn1QKlrtbW",
        "outputId": "58f67e94-c74f-42ad-a8f7-c6e9470af636"
      },
      "execution_count": 91,
      "outputs": [
        {
          "output_type": "stream",
          "name": "stdout",
          "text": [
            "** Árbol de Decisión **  (conj. de test) \n",
            "\n",
            "Matriz de confusión:\n",
            "[[14  1]\n",
            " [ 0 18]] \n",
            "\n",
            "Accuracy:  0.9697\n",
            "F1-Score:  0.973 \n",
            "\n",
            "Reporte: \n",
            "              precision    recall  f1-score   support\n",
            "\n",
            "           0       1.00      0.93      0.97        15\n",
            "           1       0.95      1.00      0.97        18\n",
            "\n",
            "    accuracy                           0.97        33\n",
            "   macro avg       0.97      0.97      0.97        33\n",
            "weighted avg       0.97      0.97      0.97        33\n",
            "\n"
          ]
        }
      ]
    },
    {
      "cell_type": "markdown",
      "source": [
        "### 💡 Observaciones"
      ],
      "metadata": {
        "id": "taVJGqEkoejf"
      }
    },
    {
      "cell_type": "markdown",
      "source": [
        "> 👁️‍🗨️ En el caso del `Árbol de Decisión` (conjunto de test), se logró una `accuracy=0.9697` y un `f1-score=0.973`.\n",
        "\n",
        "> 👁️‍🗨️ Creo que es un resultado excelente, bastante cercano al 1 ideal."
      ],
      "metadata": {
        "id": "xynU5dIPorln"
      }
    },
    {
      "cell_type": "markdown",
      "source": [
        "## 🧮 Parte 5. **Algoritmo K-Nearest Neighbors (KNN)**"
      ],
      "metadata": {
        "id": "SRiDSfrL75TP"
      }
    },
    {
      "cell_type": "markdown",
      "source": [
        "> Voy a utilizar un bucle para probar distitos valores para el `hiperparámetro k`, y determinar de acuerdo a las métricas el mejor modelo `KNN` disponible. 💪🏻"
      ],
      "metadata": {
        "id": "HRfwIvymho5d"
      }
    },
    {
      "cell_type": "markdown",
      "source": [
        "👉🏻 Entrenar los K-Nearest Neighbors ..."
      ],
      "metadata": {
        "id": "OME1OywInD8Y"
      }
    },
    {
      "cell_type": "code",
      "source": [
        "best_model = None\n",
        "best_score = 0\n",
        "\n",
        "k_values = range(1, 11, 2) # 1, 3, 5, 7, 9\n",
        "\n",
        "for k in k_values:\n",
        "\n",
        "  # instanciar el algoritmo KNN y entrenar el modelo\n",
        "  knn_model = KNeighborsClassifier(n_neighbors=k)\n",
        "  knn_model.fit(x_train, y_train)\n",
        "\n",
        "  # hacer las predicciones sobre el conj. de test\n",
        "  knn_y_pred = knn_model.predict(x_test)\n",
        "\n",
        "  # calcular la métrica 'accuracy' (exactitud)\n",
        "  knn_accuracy = accuracy_score(y_test, knn_y_pred)\n",
        "\n",
        "  # calcular la métrica 'f1-score'\n",
        "  # esta es un balance entre 'precisión' (error tipo I) y 'sensibilidad/recall' (error tipo II)\n",
        "  knn_f1_score = f1_score(y_test, knn_y_pred)\n",
        "\n",
        "  # guardar el mejor modelo\n",
        "  if knn_f1_score > best_score:\n",
        "    best_model = knn_model\n",
        "    best_score = knn_f1_score\n",
        "\n",
        "  # mostrar los resultados\n",
        "  print(f\"KNN (k={ k }):    accuracy={ round(knn_accuracy, 4) } \\t f1-score={ round(knn_f1_score, 4) }\")"
      ],
      "metadata": {
        "colab": {
          "base_uri": "https://localhost:8080/"
        },
        "id": "9lqUrzIS8Bcl",
        "outputId": "6c5e1c5b-6d3f-4de2-c0d3-74cac567c832"
      },
      "execution_count": 75,
      "outputs": [
        {
          "output_type": "stream",
          "name": "stdout",
          "text": [
            "KNN (k=1):    accuracy=0.697 \t f1-score=0.7059\n",
            "KNN (k=3):    accuracy=0.6667 \t f1-score=0.6857\n",
            "KNN (k=5):    accuracy=0.7273 \t f1-score=0.7097\n",
            "KNN (k=7):    accuracy=0.8182 \t f1-score=0.8333\n",
            "KNN (k=9):    accuracy=0.7879 \t f1-score=0.8\n"
          ]
        }
      ]
    },
    {
      "cell_type": "markdown",
      "source": [
        "> 👁️‍🗨️ Se observa de las métricas que el mejor modelo `KNN` resulta ser para `k=7`."
      ],
      "metadata": {
        "id": "o_ksbICElaWF"
      }
    },
    {
      "cell_type": "markdown",
      "source": [
        "👉🏻 Métricas en detalle (para el mejor modelo) ..."
      ],
      "metadata": {
        "id": "_svfDxXfnQ8L"
      }
    },
    {
      "cell_type": "code",
      "source": [
        "# hacer las predicciones con el mejor modelo (conj. de test)\n",
        "knn_y_pred = best_model.predict(x_test)"
      ],
      "metadata": {
        "id": "K9XhAo01reqg"
      },
      "execution_count": 87,
      "outputs": []
    },
    {
      "cell_type": "code",
      "source": [
        "# calcular sus métricas\n",
        "knn_conf_matrix = confusion_matrix(y_test, knn_y_pred)\n",
        "knn_accuracy = accuracy_score(y_test, knn_y_pred)\n",
        "knn_f1_score = f1_score(y_test, knn_y_pred)\n",
        "knn_report = classification_report(y_test, knn_y_pred)\n",
        "\n",
        "# mostrar resultados\n",
        "print(\"** K-Nearest Neighbors **  (conj. de test, k=7)\", \"\\n\")\n",
        "print(\"Matriz de confusión:\")\n",
        "print(knn_conf_matrix, \"\\n\")\n",
        "print(\"Accuracy: \", round(knn_accuracy, 4))\n",
        "print(\"F1-Score: \", round(knn_f1_score, 4), \"\\n\")\n",
        "print(\"Reporte: \")\n",
        "print(knn_report)"
      ],
      "metadata": {
        "colab": {
          "base_uri": "https://localhost:8080/"
        },
        "id": "x8WtTS5Dgjnn",
        "outputId": "9b5a0ca6-6bfb-4045-c938-c3d8b5e1c614"
      },
      "execution_count": 90,
      "outputs": [
        {
          "output_type": "stream",
          "name": "stdout",
          "text": [
            "** K-Nearest Neighbors **  (conj. de test, k=7) \n",
            "\n",
            "Matriz de confusión:\n",
            "[[12  3]\n",
            " [ 3 15]] \n",
            "\n",
            "Accuracy:  0.8182\n",
            "F1-Score:  0.8333 \n",
            "\n",
            "Reporte: \n",
            "              precision    recall  f1-score   support\n",
            "\n",
            "           0       0.80      0.80      0.80        15\n",
            "           1       0.83      0.83      0.83        18\n",
            "\n",
            "    accuracy                           0.82        33\n",
            "   macro avg       0.82      0.82      0.82        33\n",
            "weighted avg       0.82      0.82      0.82        33\n",
            "\n"
          ]
        }
      ]
    },
    {
      "cell_type": "markdown",
      "source": [
        "### 💡 Observaciones"
      ],
      "metadata": {
        "id": "dS_jlM1DhRY5"
      }
    },
    {
      "cell_type": "markdown",
      "source": [
        "> 👁️‍🗨️ En el caso de `K-Nearest Neighbors`, para un hiperparámetro `k=7` es que se obtuvo el mejor modelo (conjunto de test).\n",
        "\n",
        "> 👁️‍🗨️ Detalle de las métricas: se logró una `accuracy=0.8182` y un `f1-score=0.8333`.\n",
        "\n",
        "> 👁️‍🗨️ Creo que es un resultado aceptable, aunque no tan cercano al 1 ideal.\n"
      ],
      "metadata": {
        "id": "68f0IjWrhWf_"
      }
    },
    {
      "cell_type": "markdown",
      "source": [
        "## 💡 Parte 6. **Conclusiones**"
      ],
      "metadata": {
        "id": "qkEr6eDCLuCs"
      }
    },
    {
      "cell_type": "markdown",
      "source": [
        "👉🏻 Resultados finales (conjunto de test):\n",
        "\n",
        "- Mediante `Árbol de Decisión` se logra una `accuracy=0.9697` y un `f1-score=0.973`.\n",
        "\n",
        "- En el caso de `K-Nearest Neighbors` con un `k=7` se logró una `accuracy=0.8182` y un `f1-score=0.8333`."
      ],
      "metadata": {
        "id": "SodL7-8yLwHc"
      }
    },
    {
      "cell_type": "code",
      "source": [
        "labels = [\"Árbol de Decisión\", \"KNN (k=7)\"]\n",
        "colors = ['#A7D9B1', '#FFC3B0'] # '#FFFFB5'\n",
        "accuracy = [tree_accuracy, knn_accuracy]\n",
        "f1_score = [tree_accuracy, knn_f1_score]\n",
        "\n",
        "plt.figure(figsize=(9, 3))\n",
        "\n",
        "plt.subplot(1, 2, 1)\n",
        "plt.bar(labels, accuracy, color=colors)\n",
        "plt.title(\"Desempeño en 'accuracy'\")\n",
        "plt.grid(axis='y', linestyle='--', alpha=0.7)\n",
        "\n",
        "plt.subplot(1, 2, 2)\n",
        "plt.bar(labels, f1_score, color=colors)\n",
        "plt.title(\"Desempeño en 'f1-score'\")\n",
        "plt.grid(axis='y', linestyle='--', alpha=0.7)\n",
        "\n",
        "plt.show()"
      ],
      "metadata": {
        "colab": {
          "base_uri": "https://localhost:8080/",
          "height": 314
        },
        "id": "sTpNmigNWQnQ",
        "outputId": "767419b6-684f-4a2f-c99d-968c622e3587"
      },
      "execution_count": 92,
      "outputs": [
        {
          "output_type": "display_data",
          "data": {
            "text/plain": [
              "<Figure size 900x300 with 2 Axes>"
            ],
            "image/png": "[encoded data removed]"
          },
          "metadata": {}
        }
      ]
    },
    {
      "cell_type": "markdown",
      "source": [
        "👉🏻 Tunning en el **K-Nearest Neighbors** ...\n",
        "\n",
        "> 👁️‍🗨️ Habiendo determinado a `k=7` como valor óptimo, sus métricas mejoraron bastante respecto a los otros valores.  \n",
        "> 👁️‍🗨️ En este tipo de algoritmos el `ajuste fino` resulta fundamental."
      ],
      "metadata": {
        "id": "EAg1LVPoWWPf"
      }
    },
    {
      "cell_type": "markdown",
      "source": [
        "👉🏻 **Árbol de Decisión** vs **K-Nearest Neighbors** ...\n",
        "\n",
        "> 👁️‍🗨️ Para este dataset en particular recomendaría utilizar el modelo entrenado mediante `Árbol de Decisión`, ya que su desempeño resultó excelente (y a la vez bastante superior al del `KNN`)."
      ],
      "metadata": {
        "id": "LAlHNgDWWZMP"
      }
    },
    {
      "cell_type": "markdown",
      "source": [
        "👉🏻 Otras consideraciones ...\n",
        "\n",
        "> 👁️‍🗨️ Resaltar la importancia de hacer un buen preprocesamiento previo de los datos (imputación de nulos, chequeo de duplicados, escalado de features, etc) por para lograr mejores modelos."
      ],
      "metadata": {
        "id": "5_U3X8gBtOAp"
      }
    },
    {
      "cell_type": "markdown",
      "source": [
        "## 📚 Referencias"
      ],
      "metadata": {
        "id": "2Z2Xx7hjYcXL"
      }
    },
    {
      "cell_type": "markdown",
      "source": [
        "- Uso de estratificación cuando las clases están desbalanceadas  \n",
        "  https://scikit-learn.org/stable/modules/cross_validation.html#stratification"
      ],
      "metadata": {
        "id": "s78UJInjYjH1"
      }
    }
  ]
}